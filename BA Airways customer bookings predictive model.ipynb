{
 "cells": [
  {
   "cell_type": "markdown",
   "id": "c1116c5b",
   "metadata": {},
   "source": [
    "# Predictive modeling of customer bookings"
   ]
  },
  {
   "cell_type": "markdown",
   "id": "1d728a35",
   "metadata": {},
   "source": [
    "#### ML workflow\n",
    "1) Prepare Data\n",
    "- Import\n",
    "- Explore\n",
    "- Split\n",
    "\n",
    "2) Build Model\n",
    "\n",
    "3) Communicate Result"
   ]
  },
  {
   "cell_type": "code",
   "execution_count": 1,
   "id": "eef6ee6b",
   "metadata": {},
   "outputs": [],
   "source": [
    "# Import Libraries\n",
    "import matplotlib.pyplot as plt\n",
    "import pandas as pd\n",
    "import seaborn as sns\n",
    "\n",
    "from imblearn.over_sampling import RandomOverSampler\n",
    "from sklearn.tree import DecisionTreeClassifier\n",
    "from sklearn.ensemble import RandomForestClassifier\n",
    "from sklearn.ensemble import GradientBoostingClassifier\n",
    "from sklearn.impute import SimpleImputer\n",
    "from sklearn.metrics import ConfusionMatrixDisplay\n",
    "from sklearn.model_selection import GridSearchCV, cross_val_score, train_test_split\n",
    "from sklearn.pipeline import make_pipeline\n",
    "\n",
    "from catboost import CatBoostClassifier\n",
    "\n",
    "# To get diferent metric scores\n",
    "from sklearn.metrics import confusion_matrix,accuracy_score,classification_report,roc_auc_score,plot_confusion_matrix,precision_recall_curve,roc_curve,make_scorer\n",
    "\n",
    "\n"
   ]
  },
  {
   "cell_type": "code",
   "execution_count": 2,
   "id": "e896dfe1",
   "metadata": {},
   "outputs": [
    {
     "data": {
      "text/html": [
       "<div>\n",
       "<style scoped>\n",
       "    .dataframe tbody tr th:only-of-type {\n",
       "        vertical-align: middle;\n",
       "    }\n",
       "\n",
       "    .dataframe tbody tr th {\n",
       "        vertical-align: top;\n",
       "    }\n",
       "\n",
       "    .dataframe thead th {\n",
       "        text-align: right;\n",
       "    }\n",
       "</style>\n",
       "<table border=\"1\" class=\"dataframe\">\n",
       "  <thead>\n",
       "    <tr style=\"text-align: right;\">\n",
       "      <th></th>\n",
       "      <th>num_passengers</th>\n",
       "      <th>sales_channel</th>\n",
       "      <th>trip_type</th>\n",
       "      <th>purchase_lead</th>\n",
       "      <th>length_of_stay</th>\n",
       "      <th>flight_hour</th>\n",
       "      <th>flight_day</th>\n",
       "      <th>route</th>\n",
       "      <th>booking_origin</th>\n",
       "      <th>wants_extra_baggage</th>\n",
       "      <th>wants_preferred_seat</th>\n",
       "      <th>wants_in_flight_meals</th>\n",
       "      <th>flight_duration</th>\n",
       "      <th>booking_complete</th>\n",
       "    </tr>\n",
       "  </thead>\n",
       "  <tbody>\n",
       "    <tr>\n",
       "      <th>0</th>\n",
       "      <td>2</td>\n",
       "      <td>Internet</td>\n",
       "      <td>RoundTrip</td>\n",
       "      <td>262</td>\n",
       "      <td>19</td>\n",
       "      <td>7</td>\n",
       "      <td>Sat</td>\n",
       "      <td>AKLDEL</td>\n",
       "      <td>New Zealand</td>\n",
       "      <td>1</td>\n",
       "      <td>0</td>\n",
       "      <td>0</td>\n",
       "      <td>5.52</td>\n",
       "      <td>0</td>\n",
       "    </tr>\n",
       "    <tr>\n",
       "      <th>1</th>\n",
       "      <td>1</td>\n",
       "      <td>Internet</td>\n",
       "      <td>RoundTrip</td>\n",
       "      <td>112</td>\n",
       "      <td>20</td>\n",
       "      <td>3</td>\n",
       "      <td>Sat</td>\n",
       "      <td>AKLDEL</td>\n",
       "      <td>New Zealand</td>\n",
       "      <td>0</td>\n",
       "      <td>0</td>\n",
       "      <td>0</td>\n",
       "      <td>5.52</td>\n",
       "      <td>0</td>\n",
       "    </tr>\n",
       "    <tr>\n",
       "      <th>2</th>\n",
       "      <td>2</td>\n",
       "      <td>Internet</td>\n",
       "      <td>RoundTrip</td>\n",
       "      <td>243</td>\n",
       "      <td>22</td>\n",
       "      <td>17</td>\n",
       "      <td>Wed</td>\n",
       "      <td>AKLDEL</td>\n",
       "      <td>India</td>\n",
       "      <td>1</td>\n",
       "      <td>1</td>\n",
       "      <td>0</td>\n",
       "      <td>5.52</td>\n",
       "      <td>0</td>\n",
       "    </tr>\n",
       "    <tr>\n",
       "      <th>3</th>\n",
       "      <td>1</td>\n",
       "      <td>Internet</td>\n",
       "      <td>RoundTrip</td>\n",
       "      <td>96</td>\n",
       "      <td>31</td>\n",
       "      <td>4</td>\n",
       "      <td>Sat</td>\n",
       "      <td>AKLDEL</td>\n",
       "      <td>New Zealand</td>\n",
       "      <td>0</td>\n",
       "      <td>0</td>\n",
       "      <td>1</td>\n",
       "      <td>5.52</td>\n",
       "      <td>0</td>\n",
       "    </tr>\n",
       "    <tr>\n",
       "      <th>4</th>\n",
       "      <td>2</td>\n",
       "      <td>Internet</td>\n",
       "      <td>RoundTrip</td>\n",
       "      <td>68</td>\n",
       "      <td>22</td>\n",
       "      <td>15</td>\n",
       "      <td>Wed</td>\n",
       "      <td>AKLDEL</td>\n",
       "      <td>India</td>\n",
       "      <td>1</td>\n",
       "      <td>0</td>\n",
       "      <td>1</td>\n",
       "      <td>5.52</td>\n",
       "      <td>0</td>\n",
       "    </tr>\n",
       "  </tbody>\n",
       "</table>\n",
       "</div>"
      ],
      "text/plain": [
       "   num_passengers sales_channel  trip_type  purchase_lead  length_of_stay  \\\n",
       "0               2      Internet  RoundTrip            262              19   \n",
       "1               1      Internet  RoundTrip            112              20   \n",
       "2               2      Internet  RoundTrip            243              22   \n",
       "3               1      Internet  RoundTrip             96              31   \n",
       "4               2      Internet  RoundTrip             68              22   \n",
       "\n",
       "   flight_hour flight_day   route booking_origin  wants_extra_baggage  \\\n",
       "0            7        Sat  AKLDEL    New Zealand                    1   \n",
       "1            3        Sat  AKLDEL    New Zealand                    0   \n",
       "2           17        Wed  AKLDEL          India                    1   \n",
       "3            4        Sat  AKLDEL    New Zealand                    0   \n",
       "4           15        Wed  AKLDEL          India                    1   \n",
       "\n",
       "   wants_preferred_seat  wants_in_flight_meals  flight_duration  \\\n",
       "0                     0                      0             5.52   \n",
       "1                     0                      0             5.52   \n",
       "2                     1                      0             5.52   \n",
       "3                     0                      1             5.52   \n",
       "4                     0                      1             5.52   \n",
       "\n",
       "   booking_complete  \n",
       "0                 0  \n",
       "1                 0  \n",
       "2                 0  \n",
       "3                 0  \n",
       "4                 0  "
      ]
     },
     "execution_count": 2,
     "metadata": {},
     "output_type": "execute_result"
    }
   ],
   "source": [
    "#Import data\n",
    "df = pd.read_csv(\"downloads/customer_booking.csv\", encoding=\"ISO-8859-1\")\n",
    "df.head()\n"
   ]
  },
  {
   "cell_type": "markdown",
   "id": "44f36035",
   "metadata": {},
   "source": [
    "## Explore"
   ]
  },
  {
   "cell_type": "code",
   "execution_count": 3,
   "id": "025bd0c4",
   "metadata": {},
   "outputs": [
    {
     "name": "stdout",
     "output_type": "stream",
     "text": [
      "<class 'pandas.core.frame.DataFrame'>\n",
      "RangeIndex: 50000 entries, 0 to 49999\n",
      "Data columns (total 14 columns):\n",
      " #   Column                 Non-Null Count  Dtype  \n",
      "---  ------                 --------------  -----  \n",
      " 0   num_passengers         50000 non-null  int64  \n",
      " 1   sales_channel          50000 non-null  object \n",
      " 2   trip_type              50000 non-null  object \n",
      " 3   purchase_lead          50000 non-null  int64  \n",
      " 4   length_of_stay         50000 non-null  int64  \n",
      " 5   flight_hour            50000 non-null  int64  \n",
      " 6   flight_day             50000 non-null  object \n",
      " 7   route                  50000 non-null  object \n",
      " 8   booking_origin         50000 non-null  object \n",
      " 9   wants_extra_baggage    50000 non-null  int64  \n",
      " 10  wants_preferred_seat   50000 non-null  int64  \n",
      " 11  wants_in_flight_meals  50000 non-null  int64  \n",
      " 12  flight_duration        50000 non-null  float64\n",
      " 13  booking_complete       50000 non-null  int64  \n",
      "dtypes: float64(1), int64(8), object(5)\n",
      "memory usage: 5.3+ MB\n"
     ]
    },
    {
     "data": {
      "text/plain": [
       "(50000, 14)"
      ]
     },
     "execution_count": 3,
     "metadata": {},
     "output_type": "execute_result"
    }
   ],
   "source": [
    "df.info()\n",
    "df.shape"
   ]
  },
  {
   "cell_type": "markdown",
   "id": "9c4950cf",
   "metadata": {},
   "source": [
    "To provide more context, below is a more detailed data description, explaining exactly what each column means:\n",
    "\n",
    "- `num_passengers` = number of passengers travelling\n",
    "- `sales_channel` = sales channel booking was made on\n",
    "- `trip_type` = trip Type (Round Trip, One Way, Circle Trip)\n",
    "- `purchase_lead` = number of days between travel date and booking date\n",
    "- `length_of_stay` = number of days spent at destination\n",
    "- `flight_hour` = hour of flight departure\n",
    "- `flight_day` = day of week of flight departure\n",
    "- `route` = origin -> destination flight route\n",
    "- `booking_origin` = country from where booking was made\n",
    "- `wants_extra_baggage` = if the customer wanted extra baggage in the booking\n",
    "- `wants_preferred_seat` = if the customer wanted a preferred seat in the booking\n",
    "- `wants_in_flight_meals` = if the customer wanted in-flight meals in the booking\n",
    "- `flight_duration` = total duration of flight (in hours)\n",
    "- `booking_complete` = flag indicating if the customer completed the booking\n"
   ]
  },
  {
   "cell_type": "code",
   "execution_count": 4,
   "id": "fcbe1d31",
   "metadata": {},
   "outputs": [
    {
     "data": {
      "text/html": [
       "<div>\n",
       "<style scoped>\n",
       "    .dataframe tbody tr th:only-of-type {\n",
       "        vertical-align: middle;\n",
       "    }\n",
       "\n",
       "    .dataframe tbody tr th {\n",
       "        vertical-align: top;\n",
       "    }\n",
       "\n",
       "    .dataframe thead th {\n",
       "        text-align: right;\n",
       "    }\n",
       "</style>\n",
       "<table border=\"1\" class=\"dataframe\">\n",
       "  <thead>\n",
       "    <tr style=\"text-align: right;\">\n",
       "      <th></th>\n",
       "      <th>num_passengers</th>\n",
       "      <th>purchase_lead</th>\n",
       "      <th>length_of_stay</th>\n",
       "      <th>flight_hour</th>\n",
       "      <th>wants_extra_baggage</th>\n",
       "      <th>wants_preferred_seat</th>\n",
       "      <th>wants_in_flight_meals</th>\n",
       "      <th>flight_duration</th>\n",
       "      <th>booking_complete</th>\n",
       "    </tr>\n",
       "  </thead>\n",
       "  <tbody>\n",
       "    <tr>\n",
       "      <th>count</th>\n",
       "      <td>50000.000000</td>\n",
       "      <td>50000.000000</td>\n",
       "      <td>50000.00000</td>\n",
       "      <td>50000.00000</td>\n",
       "      <td>50000.000000</td>\n",
       "      <td>50000.000000</td>\n",
       "      <td>50000.000000</td>\n",
       "      <td>50000.000000</td>\n",
       "      <td>50000.000000</td>\n",
       "    </tr>\n",
       "    <tr>\n",
       "      <th>mean</th>\n",
       "      <td>1.591240</td>\n",
       "      <td>84.940480</td>\n",
       "      <td>23.04456</td>\n",
       "      <td>9.06634</td>\n",
       "      <td>0.668780</td>\n",
       "      <td>0.296960</td>\n",
       "      <td>0.427140</td>\n",
       "      <td>7.277561</td>\n",
       "      <td>0.149560</td>\n",
       "    </tr>\n",
       "    <tr>\n",
       "      <th>std</th>\n",
       "      <td>1.020165</td>\n",
       "      <td>90.451378</td>\n",
       "      <td>33.88767</td>\n",
       "      <td>5.41266</td>\n",
       "      <td>0.470657</td>\n",
       "      <td>0.456923</td>\n",
       "      <td>0.494668</td>\n",
       "      <td>1.496863</td>\n",
       "      <td>0.356643</td>\n",
       "    </tr>\n",
       "    <tr>\n",
       "      <th>min</th>\n",
       "      <td>1.000000</td>\n",
       "      <td>0.000000</td>\n",
       "      <td>0.00000</td>\n",
       "      <td>0.00000</td>\n",
       "      <td>0.000000</td>\n",
       "      <td>0.000000</td>\n",
       "      <td>0.000000</td>\n",
       "      <td>4.670000</td>\n",
       "      <td>0.000000</td>\n",
       "    </tr>\n",
       "    <tr>\n",
       "      <th>25%</th>\n",
       "      <td>1.000000</td>\n",
       "      <td>21.000000</td>\n",
       "      <td>5.00000</td>\n",
       "      <td>5.00000</td>\n",
       "      <td>0.000000</td>\n",
       "      <td>0.000000</td>\n",
       "      <td>0.000000</td>\n",
       "      <td>5.620000</td>\n",
       "      <td>0.000000</td>\n",
       "    </tr>\n",
       "    <tr>\n",
       "      <th>50%</th>\n",
       "      <td>1.000000</td>\n",
       "      <td>51.000000</td>\n",
       "      <td>17.00000</td>\n",
       "      <td>9.00000</td>\n",
       "      <td>1.000000</td>\n",
       "      <td>0.000000</td>\n",
       "      <td>0.000000</td>\n",
       "      <td>7.570000</td>\n",
       "      <td>0.000000</td>\n",
       "    </tr>\n",
       "    <tr>\n",
       "      <th>75%</th>\n",
       "      <td>2.000000</td>\n",
       "      <td>115.000000</td>\n",
       "      <td>28.00000</td>\n",
       "      <td>13.00000</td>\n",
       "      <td>1.000000</td>\n",
       "      <td>1.000000</td>\n",
       "      <td>1.000000</td>\n",
       "      <td>8.830000</td>\n",
       "      <td>0.000000</td>\n",
       "    </tr>\n",
       "    <tr>\n",
       "      <th>max</th>\n",
       "      <td>9.000000</td>\n",
       "      <td>867.000000</td>\n",
       "      <td>778.00000</td>\n",
       "      <td>23.00000</td>\n",
       "      <td>1.000000</td>\n",
       "      <td>1.000000</td>\n",
       "      <td>1.000000</td>\n",
       "      <td>9.500000</td>\n",
       "      <td>1.000000</td>\n",
       "    </tr>\n",
       "  </tbody>\n",
       "</table>\n",
       "</div>"
      ],
      "text/plain": [
       "       num_passengers  purchase_lead  length_of_stay  flight_hour  \\\n",
       "count    50000.000000   50000.000000     50000.00000  50000.00000   \n",
       "mean         1.591240      84.940480        23.04456      9.06634   \n",
       "std          1.020165      90.451378        33.88767      5.41266   \n",
       "min          1.000000       0.000000         0.00000      0.00000   \n",
       "25%          1.000000      21.000000         5.00000      5.00000   \n",
       "50%          1.000000      51.000000        17.00000      9.00000   \n",
       "75%          2.000000     115.000000        28.00000     13.00000   \n",
       "max          9.000000     867.000000       778.00000     23.00000   \n",
       "\n",
       "       wants_extra_baggage  wants_preferred_seat  wants_in_flight_meals  \\\n",
       "count         50000.000000          50000.000000           50000.000000   \n",
       "mean              0.668780              0.296960               0.427140   \n",
       "std               0.470657              0.456923               0.494668   \n",
       "min               0.000000              0.000000               0.000000   \n",
       "25%               0.000000              0.000000               0.000000   \n",
       "50%               1.000000              0.000000               0.000000   \n",
       "75%               1.000000              1.000000               1.000000   \n",
       "max               1.000000              1.000000               1.000000   \n",
       "\n",
       "       flight_duration  booking_complete  \n",
       "count     50000.000000      50000.000000  \n",
       "mean          7.277561          0.149560  \n",
       "std           1.496863          0.356643  \n",
       "min           4.670000          0.000000  \n",
       "25%           5.620000          0.000000  \n",
       "50%           7.570000          0.000000  \n",
       "75%           8.830000          0.000000  \n",
       "max           9.500000          1.000000  "
      ]
     },
     "execution_count": 4,
     "metadata": {},
     "output_type": "execute_result"
    }
   ],
   "source": [
    "df.describe()"
   ]
  },
  {
   "cell_type": "markdown",
   "id": "699baed2",
   "metadata": {},
   "source": [
    "Note that the median of purchase_lead is 51 and the max is 867 (there are outliers present here) and the median of length_of_stay is 17 and the max is 778(present of outliers also here)"
   ]
  },
  {
   "cell_type": "code",
   "execution_count": 5,
   "id": "b04e834e",
   "metadata": {},
   "outputs": [
    {
     "data": {
      "text/plain": [
       "sales_channel       2\n",
       "trip_type           3\n",
       "flight_day          7\n",
       "route             799\n",
       "booking_origin    104\n",
       "dtype: int64"
      ]
     },
     "execution_count": 5,
     "metadata": {},
     "output_type": "execute_result"
    }
   ],
   "source": [
    "# Number of unique classes in each object column\n",
    "df.select_dtypes('object').apply(pd.Series.nunique, axis = 0)"
   ]
  },
  {
   "cell_type": "code",
   "execution_count": 6,
   "id": "5465d67e",
   "metadata": {},
   "outputs": [
    {
     "data": {
      "text/plain": [
       "num_passengers           0\n",
       "sales_channel            0\n",
       "trip_type                0\n",
       "purchase_lead            0\n",
       "length_of_stay           0\n",
       "flight_hour              0\n",
       "flight_day               0\n",
       "route                    0\n",
       "booking_origin           0\n",
       "wants_extra_baggage      0\n",
       "wants_preferred_seat     0\n",
       "wants_in_flight_meals    0\n",
       "flight_duration          0\n",
       "booking_complete         0\n",
       "dtype: int64"
      ]
     },
     "execution_count": 6,
     "metadata": {},
     "output_type": "execute_result"
    }
   ],
   "source": [
    "# checkimg for null values\n",
    "df.isna().sum()"
   ]
  },
  {
   "cell_type": "code",
   "execution_count": 7,
   "id": "222368f2",
   "metadata": {},
   "outputs": [
    {
     "data": {
      "text/plain": [
       "<AxesSubplot:title={'center':'Class Balance'}, xlabel='Booking', ylabel='Frequency'>"
      ]
     },
     "execution_count": 7,
     "metadata": {},
     "output_type": "execute_result"
    },
    {
     "data": {
      "image/png": "[encoded data removed]",
      "text/plain": [
       "<Figure size 432x288 with 1 Axes>"
      ]
     },
     "metadata": {
      "needs_background": "light"
     },
     "output_type": "display_data"
    }
   ],
   "source": [
    "#Class distribution\n",
    "df[\"booking_complete\"].value_counts(normalize=True).plot(\n",
    "kind=\"bar\",\n",
    "xlabel=\"Booking\",\n",
    "ylabel=\"Frequency\",\n",
    "title=\"Class Balance\"\n",
    ")"
   ]
  },
  {
   "cell_type": "markdown",
   "id": "e249eabd",
   "metadata": {},
   "source": [
    "From the above plot we can see an imbalance, majority of the customers did not complete their booking."
   ]
  },
  {
   "cell_type": "code",
   "execution_count": 8,
   "id": "ece4284d",
   "metadata": {},
   "outputs": [
    {
     "data": {
      "image/png": "[encoded data removed]",
      "text/plain": [
       "<Figure size 576x576 with 3 Axes>"
      ]
     },
     "metadata": {
      "needs_background": "light"
     },
     "output_type": "display_data"
    }
   ],
   "source": [
    "#Using seaborns countplot and subplot\n",
    "fig, ax = plt.subplots(nrows=3, figsize = [8,8])\n",
    "#Setting my base color \n",
    "base_color = sns.color_palette()[0]\n",
    "sns.countplot(data = df,x='sales_channel',hue='booking_complete', ax = ax[0])\n",
    "sns.countplot(data = df,x='trip_type',hue='booking_complete', ax = ax[1])\n",
    "sns.countplot(data = df,x='flight_day',hue='booking_complete', ax = ax[2])\n",
    "\n",
    "plt.show()\n"
   ]
  },
  {
   "cell_type": "code",
   "execution_count": 9,
   "id": "52c6e704",
   "metadata": {},
   "outputs": [
    {
     "data": {
      "image/png": "[encoded data removed]",
      "text/plain": [
       "<Figure size 576x576 with 3 Axes>"
      ]
     },
     "metadata": {
      "needs_background": "light"
     },
     "output_type": "display_data"
    }
   ],
   "source": [
    "#Using seaborns countplot and subplot\n",
    "fig, ax = plt.subplots(nrows=3, figsize = [8,8])\n",
    "#Setting my base color \n",
    "base_color = sns.color_palette()[0]\n",
    "sns.countplot(data = df,x='wants_extra_baggage',hue='booking_complete', ax = ax[0])\n",
    "sns.countplot(data = df,x='wants_preferred_seat',hue='booking_complete', ax = ax[1])\n",
    "sns.countplot(data = df,x='wants_in_flight_meals',hue='booking_complete', ax = ax[2])\n",
    "\n",
    "plt.show()\n"
   ]
  },
  {
   "cell_type": "code",
   "execution_count": 10,
   "id": "0a31c2fb",
   "metadata": {},
   "outputs": [
    {
     "data": {
      "image/png": "[encoded data removed]",
      "text/plain": [
       "<Figure size 432x288 with 1 Axes>"
      ]
     },
     "metadata": {
      "needs_background": "light"
     },
     "output_type": "display_data"
    }
   ],
   "source": [
    "df[\"num_passengers\"].hist()\n",
    "plt.xlabel(\"num_passengers\")\n",
    "plt.ylabel(\"Count\"),\n",
    "plt.title(\"Distribution of num_passengers\");"
   ]
  },
  {
   "cell_type": "code",
   "execution_count": 11,
   "id": "224501d7",
   "metadata": {},
   "outputs": [
    {
     "data": {
      "image/png": "[encoded data removed]",
      "text/plain": [
       "<Figure size 432x288 with 1 Axes>"
      ]
     },
     "metadata": {
      "needs_background": "light"
     },
     "output_type": "display_data"
    }
   ],
   "source": [
    "df[\"purchase_lead\"].hist()\n",
    "plt.xlabel(\"purchase_lead\")\n",
    "plt.ylabel(\"Count\"),\n",
    "plt.title(\"Distribution of purchase_lead\");"
   ]
  },
  {
   "cell_type": "code",
   "execution_count": 12,
   "id": "6866528f",
   "metadata": {},
   "outputs": [
    {
     "data": {
      "image/png": "[encoded data removed]",
      "text/plain": [
       "<Figure size 432x288 with 1 Axes>"
      ]
     },
     "metadata": {
      "needs_background": "light"
     },
     "output_type": "display_data"
    }
   ],
   "source": [
    "df[\"length_of_stay\"].hist()\n",
    "plt.xlabel(\"length_of_stay\")\n",
    "plt.ylabel(\"Count\"),\n",
    "plt.title(\"Distribution of length_of_stay\");"
   ]
  },
  {
   "cell_type": "markdown",
   "id": "8b0b9ddf",
   "metadata": {},
   "source": [
    "We can see that distribution of number of passangers, distribution of purchase lead and distribution of length of day are rightly skewed"
   ]
  },
  {
   "cell_type": "code",
   "execution_count": 13,
   "id": "805d8fde",
   "metadata": {},
   "outputs": [
    {
     "data": {
      "image/png": "[encoded data removed]",
      "text/plain": [
       "<Figure size 432x288 with 1 Axes>"
      ]
     },
     "metadata": {
      "needs_background": "light"
     },
     "output_type": "display_data"
    }
   ],
   "source": [
    "df[\"flight_hour\"].hist()\n",
    "plt.xlabel(\"flight_hour\")\n",
    "plt.ylabel(\"Count\"),\n",
    "plt.title(\"Distribution of flight_hour\");"
   ]
  },
  {
   "cell_type": "code",
   "execution_count": 14,
   "id": "b9da6a11",
   "metadata": {},
   "outputs": [
    {
     "data": {
      "image/png": "[encoded data removed]",
      "text/plain": [
       "<Figure size 432x288 with 1 Axes>"
      ]
     },
     "metadata": {
      "needs_background": "light"
     },
     "output_type": "display_data"
    }
   ],
   "source": [
    "df[\"flight_duration\"].hist()\n",
    "plt.xlabel(\"flight_duration\")\n",
    "plt.ylabel(\"Count\"),\n",
    "plt.title(\"Distribution of flight_duration\");"
   ]
  },
  {
   "cell_type": "code",
   "execution_count": 15,
   "id": "d885aca3",
   "metadata": {},
   "outputs": [
    {
     "data": {
      "text/plain": [
       "flight_duration         -0.106266\n",
       "length_of_stay          -0.042408\n",
       "purchase_lead           -0.022131\n",
       "flight_hour              0.007127\n",
       "num_passengers           0.024116\n",
       "wants_in_flight_meals    0.026511\n",
       "wants_preferred_seat     0.050116\n",
       "wants_extra_baggage      0.068139\n",
       "booking_complete         1.000000\n",
       "Name: booking_complete, dtype: float64"
      ]
     },
     "execution_count": 15,
     "metadata": {},
     "output_type": "execute_result"
    }
   ],
   "source": [
    "# Find correlation with the target and sort\n",
    "correlations = df.corr()['booking_complete'].sort_values()\n",
    "\n",
    "# Display correlations\n",
    "correlations.head(20)"
   ]
  },
  {
   "cell_type": "code",
   "execution_count": 16,
   "id": "50f7c204",
   "metadata": {},
   "outputs": [
    {
     "data": {
      "image/png": "[encoded data removed]",
      "text/plain": [
       "<Figure size 432x288 with 2 Axes>"
      ]
     },
     "metadata": {
      "needs_background": "light"
     },
     "output_type": "display_data"
    }
   ],
   "source": [
    "corr = df.drop(columns=\"booking_complete\").corr()\n",
    "sns.heatmap(corr);\n"
   ]
  },
  {
   "cell_type": "code",
   "execution_count": 17,
   "id": "3574540e",
   "metadata": {},
   "outputs": [],
   "source": [
    "#Create dummies/one-hot encoding on every nominal attributes in dataframe\n",
    "sales_channel_dummies = pd.get_dummies(df['sales_channel'],prefix='sales_channel')\n",
    "trip_type_dummies = pd.get_dummies(df['trip_type'],prefix='trip_type')\n",
    "flight_day_dummies = pd.get_dummies(df['flight_day'],prefix='flight_day')\n",
    "route_dummies = pd.get_dummies(df['route'],prefix='route')\n",
    "booking_origin_dummies = pd.get_dummies(df['booking_origin'],prefix='booking_origin')"
   ]
  },
  {
   "cell_type": "code",
   "execution_count": 18,
   "id": "d337bcca",
   "metadata": {},
   "outputs": [],
   "source": [
    "#Concate the dummies into dataset\n",
    "df = pd.concat([df, sales_channel_dummies,trip_type_dummies,\n",
    "                       flight_day_dummies, route_dummies, booking_origin_dummies], axis=1)\n",
    "\n",
    "#Drop categorical attribute (before transformation)\n",
    "df = df.drop(['sales_channel','trip_type','flight_day','route','booking_origin'], axis=1)"
   ]
  },
  {
   "cell_type": "code",
   "execution_count": 19,
   "id": "e3df2eac",
   "metadata": {},
   "outputs": [
    {
     "data": {
      "text/html": [
       "<div>\n",
       "<style scoped>\n",
       "    .dataframe tbody tr th:only-of-type {\n",
       "        vertical-align: middle;\n",
       "    }\n",
       "\n",
       "    .dataframe tbody tr th {\n",
       "        vertical-align: top;\n",
       "    }\n",
       "\n",
       "    .dataframe thead th {\n",
       "        text-align: right;\n",
       "    }\n",
       "</style>\n",
       "<table border=\"1\" class=\"dataframe\">\n",
       "  <thead>\n",
       "    <tr style=\"text-align: right;\">\n",
       "      <th></th>\n",
       "      <th>num_passengers</th>\n",
       "      <th>purchase_lead</th>\n",
       "      <th>length_of_stay</th>\n",
       "      <th>flight_hour</th>\n",
       "      <th>wants_extra_baggage</th>\n",
       "      <th>wants_preferred_seat</th>\n",
       "      <th>wants_in_flight_meals</th>\n",
       "      <th>flight_duration</th>\n",
       "      <th>booking_complete</th>\n",
       "      <th>sales_channel_Internet</th>\n",
       "      <th>...</th>\n",
       "      <th>booking_origin_Timor-Leste</th>\n",
       "      <th>booking_origin_Tonga</th>\n",
       "      <th>booking_origin_Tunisia</th>\n",
       "      <th>booking_origin_Turkey</th>\n",
       "      <th>booking_origin_Ukraine</th>\n",
       "      <th>booking_origin_United Arab Emirates</th>\n",
       "      <th>booking_origin_United Kingdom</th>\n",
       "      <th>booking_origin_United States</th>\n",
       "      <th>booking_origin_Vanuatu</th>\n",
       "      <th>booking_origin_Vietnam</th>\n",
       "    </tr>\n",
       "  </thead>\n",
       "  <tbody>\n",
       "    <tr>\n",
       "      <th>0</th>\n",
       "      <td>2</td>\n",
       "      <td>262</td>\n",
       "      <td>19</td>\n",
       "      <td>7</td>\n",
       "      <td>1</td>\n",
       "      <td>0</td>\n",
       "      <td>0</td>\n",
       "      <td>5.52</td>\n",
       "      <td>0</td>\n",
       "      <td>1</td>\n",
       "      <td>...</td>\n",
       "      <td>0</td>\n",
       "      <td>0</td>\n",
       "      <td>0</td>\n",
       "      <td>0</td>\n",
       "      <td>0</td>\n",
       "      <td>0</td>\n",
       "      <td>0</td>\n",
       "      <td>0</td>\n",
       "      <td>0</td>\n",
       "      <td>0</td>\n",
       "    </tr>\n",
       "    <tr>\n",
       "      <th>1</th>\n",
       "      <td>1</td>\n",
       "      <td>112</td>\n",
       "      <td>20</td>\n",
       "      <td>3</td>\n",
       "      <td>0</td>\n",
       "      <td>0</td>\n",
       "      <td>0</td>\n",
       "      <td>5.52</td>\n",
       "      <td>0</td>\n",
       "      <td>1</td>\n",
       "      <td>...</td>\n",
       "      <td>0</td>\n",
       "      <td>0</td>\n",
       "      <td>0</td>\n",
       "      <td>0</td>\n",
       "      <td>0</td>\n",
       "      <td>0</td>\n",
       "      <td>0</td>\n",
       "      <td>0</td>\n",
       "      <td>0</td>\n",
       "      <td>0</td>\n",
       "    </tr>\n",
       "    <tr>\n",
       "      <th>2</th>\n",
       "      <td>2</td>\n",
       "      <td>243</td>\n",
       "      <td>22</td>\n",
       "      <td>17</td>\n",
       "      <td>1</td>\n",
       "      <td>1</td>\n",
       "      <td>0</td>\n",
       "      <td>5.52</td>\n",
       "      <td>0</td>\n",
       "      <td>1</td>\n",
       "      <td>...</td>\n",
       "      <td>0</td>\n",
       "      <td>0</td>\n",
       "      <td>0</td>\n",
       "      <td>0</td>\n",
       "      <td>0</td>\n",
       "      <td>0</td>\n",
       "      <td>0</td>\n",
       "      <td>0</td>\n",
       "      <td>0</td>\n",
       "      <td>0</td>\n",
       "    </tr>\n",
       "    <tr>\n",
       "      <th>3</th>\n",
       "      <td>1</td>\n",
       "      <td>96</td>\n",
       "      <td>31</td>\n",
       "      <td>4</td>\n",
       "      <td>0</td>\n",
       "      <td>0</td>\n",
       "      <td>1</td>\n",
       "      <td>5.52</td>\n",
       "      <td>0</td>\n",
       "      <td>1</td>\n",
       "      <td>...</td>\n",
       "      <td>0</td>\n",
       "      <td>0</td>\n",
       "      <td>0</td>\n",
       "      <td>0</td>\n",
       "      <td>0</td>\n",
       "      <td>0</td>\n",
       "      <td>0</td>\n",
       "      <td>0</td>\n",
       "      <td>0</td>\n",
       "      <td>0</td>\n",
       "    </tr>\n",
       "    <tr>\n",
       "      <th>4</th>\n",
       "      <td>2</td>\n",
       "      <td>68</td>\n",
       "      <td>22</td>\n",
       "      <td>15</td>\n",
       "      <td>1</td>\n",
       "      <td>0</td>\n",
       "      <td>1</td>\n",
       "      <td>5.52</td>\n",
       "      <td>0</td>\n",
       "      <td>1</td>\n",
       "      <td>...</td>\n",
       "      <td>0</td>\n",
       "      <td>0</td>\n",
       "      <td>0</td>\n",
       "      <td>0</td>\n",
       "      <td>0</td>\n",
       "      <td>0</td>\n",
       "      <td>0</td>\n",
       "      <td>0</td>\n",
       "      <td>0</td>\n",
       "      <td>0</td>\n",
       "    </tr>\n",
       "  </tbody>\n",
       "</table>\n",
       "<p>5 rows × 924 columns</p>\n",
       "</div>"
      ],
      "text/plain": [
       "   num_passengers  purchase_lead  length_of_stay  flight_hour  \\\n",
       "0               2            262              19            7   \n",
       "1               1            112              20            3   \n",
       "2               2            243              22           17   \n",
       "3               1             96              31            4   \n",
       "4               2             68              22           15   \n",
       "\n",
       "   wants_extra_baggage  wants_preferred_seat  wants_in_flight_meals  \\\n",
       "0                    1                     0                      0   \n",
       "1                    0                     0                      0   \n",
       "2                    1                     1                      0   \n",
       "3                    0                     0                      1   \n",
       "4                    1                     0                      1   \n",
       "\n",
       "   flight_duration  booking_complete  sales_channel_Internet  ...  \\\n",
       "0             5.52                 0                       1  ...   \n",
       "1             5.52                 0                       1  ...   \n",
       "2             5.52                 0                       1  ...   \n",
       "3             5.52                 0                       1  ...   \n",
       "4             5.52                 0                       1  ...   \n",
       "\n",
       "   booking_origin_Timor-Leste  booking_origin_Tonga  booking_origin_Tunisia  \\\n",
       "0                           0                     0                       0   \n",
       "1                           0                     0                       0   \n",
       "2                           0                     0                       0   \n",
       "3                           0                     0                       0   \n",
       "4                           0                     0                       0   \n",
       "\n",
       "   booking_origin_Turkey  booking_origin_Ukraine  \\\n",
       "0                      0                       0   \n",
       "1                      0                       0   \n",
       "2                      0                       0   \n",
       "3                      0                       0   \n",
       "4                      0                       0   \n",
       "\n",
       "   booking_origin_United Arab Emirates  booking_origin_United Kingdom  \\\n",
       "0                                    0                              0   \n",
       "1                                    0                              0   \n",
       "2                                    0                              0   \n",
       "3                                    0                              0   \n",
       "4                                    0                              0   \n",
       "\n",
       "   booking_origin_United States  booking_origin_Vanuatu  \\\n",
       "0                             0                       0   \n",
       "1                             0                       0   \n",
       "2                             0                       0   \n",
       "3                             0                       0   \n",
       "4                             0                       0   \n",
       "\n",
       "   booking_origin_Vietnam  \n",
       "0                       0  \n",
       "1                       0  \n",
       "2                       0  \n",
       "3                       0  \n",
       "4                       0  \n",
       "\n",
       "[5 rows x 924 columns]"
      ]
     },
     "execution_count": 19,
     "metadata": {},
     "output_type": "execute_result"
    }
   ],
   "source": [
    "df.head()"
   ]
  },
  {
   "cell_type": "markdown",
   "id": "38fbf828",
   "metadata": {},
   "source": [
    "## Split"
   ]
  },
  {
   "cell_type": "code",
   "execution_count": 20,
   "id": "d8d856e5",
   "metadata": {},
   "outputs": [],
   "source": [
    "X = df.drop(columns=\"booking_complete\")\n",
    "y = df['booking_complete']"
   ]
  },
  {
   "cell_type": "code",
   "execution_count": 21,
   "id": "76740e1e",
   "metadata": {},
   "outputs": [
    {
     "name": "stdout",
     "output_type": "stream",
     "text": [
      "X_train shape: (35000, 923)\n",
      "y_train shape: (35000,)\n",
      "X_test shape: (15000, 923)\n",
      "y_test shape: (15000,)\n"
     ]
    }
   ],
   "source": [
    "# train and test split\n",
    "X_train,X_val,y_train,y_val = train_test_split(X,y,test_size=0.3,random_state=1, stratify = y)\n",
    "\n",
    "print(\"X_train shape:\", X_train.shape)\n",
    "print(\"y_train shape:\", y_train.shape)\n",
    "print(\"X_test shape:\", X_val.shape)\n",
    "print(\"y_test shape:\", y_val.shape)"
   ]
  },
  {
   "cell_type": "markdown",
   "id": "362bc9db",
   "metadata": {},
   "source": [
    "## 2.) BUILD MODEL"
   ]
  },
  {
   "cell_type": "code",
   "execution_count": 22,
   "id": "d8efe557",
   "metadata": {},
   "outputs": [
    {
     "name": "stdout",
     "output_type": "stream",
     "text": [
      "0.8504285714285714\n"
     ]
    }
   ],
   "source": [
    "acc_baseline= y_train.value_counts(normalize=True).max()\n",
    "print(acc_baseline)"
   ]
  },
  {
   "cell_type": "markdown",
   "id": "c12bd9b6",
   "metadata": {},
   "source": [
    "##### Handling imbalance data"
   ]
  },
  {
   "cell_type": "code",
   "execution_count": 23,
   "id": "c1f2539e",
   "metadata": {},
   "outputs": [
    {
     "name": "stdout",
     "output_type": "stream",
     "text": [
      "(59530, 923)\n",
      "(59530,)\n"
     ]
    }
   ],
   "source": [
    "Over_sampler = RandomOverSampler(random_state= 1)\n",
    "X_train_over, y_train_over = Over_sampler.fit_resample(X_train,y_train)\n",
    "print(X_train_over.shape)\n",
    "print(y_train_over.shape)"
   ]
  },
  {
   "cell_type": "code",
   "execution_count": 24,
   "id": "a2feb411",
   "metadata": {},
   "outputs": [],
   "source": [
    "model_cb = CatBoostClassifier(task_type='CPU', iterations=200, \n",
    "                              random_state = 400,depth=13,eval_metric=\"AUC\")"
   ]
  },
  {
   "cell_type": "code",
   "execution_count": 25,
   "id": "b12ed002",
   "metadata": {
    "scrolled": false
   },
   "outputs": [
    {
     "data": {
      "application/vnd.jupyter.widget-view+json": {
       "model_id": "232a3d0ce2d744eb934162c481acc335",
       "version_major": 2,
       "version_minor": 0
      },
      "text/plain": [
       "MetricVisualizer(layout=Layout(align_self='stretch', height='500px'))"
      ]
     },
     "metadata": {},
     "output_type": "display_data"
    },
    {
     "name": "stdout",
     "output_type": "stream",
     "text": [
      "Learning rate set to 0.175114\n",
      "0:\ttest: 0.7038127\tbest: 0.7038127 (0)\ttotal: 1.18s\tremaining: 3m 55s\n",
      "1:\ttest: 0.7083897\tbest: 0.7083897 (1)\ttotal: 2.19s\tremaining: 3m 36s\n",
      "2:\ttest: 0.7210272\tbest: 0.7210272 (2)\ttotal: 3.16s\tremaining: 3m 27s\n",
      "3:\ttest: 0.7226042\tbest: 0.7226042 (3)\ttotal: 4.13s\tremaining: 3m 22s\n",
      "4:\ttest: 0.7336504\tbest: 0.7336504 (4)\ttotal: 5.11s\tremaining: 3m 19s\n",
      "5:\ttest: 0.7384935\tbest: 0.7384935 (5)\ttotal: 6.06s\tremaining: 3m 15s\n",
      "6:\ttest: 0.7415445\tbest: 0.7415445 (6)\ttotal: 6.97s\tremaining: 3m 12s\n",
      "7:\ttest: 0.7429686\tbest: 0.7429686 (7)\ttotal: 7.85s\tremaining: 3m 8s\n",
      "8:\ttest: 0.7401634\tbest: 0.7429686 (7)\ttotal: 8.77s\tremaining: 3m 6s\n",
      "9:\ttest: 0.7412183\tbest: 0.7429686 (7)\ttotal: 9.67s\tremaining: 3m 3s\n",
      "10:\ttest: 0.7434363\tbest: 0.7434363 (10)\ttotal: 10.5s\tremaining: 3m 1s\n",
      "11:\ttest: 0.7449420\tbest: 0.7449420 (11)\ttotal: 11.5s\tremaining: 3m\n",
      "12:\ttest: 0.7451512\tbest: 0.7451512 (12)\ttotal: 12.4s\tremaining: 2m 58s\n",
      "13:\ttest: 0.7455939\tbest: 0.7455939 (13)\ttotal: 13.3s\tremaining: 2m 56s\n",
      "14:\ttest: 0.7460801\tbest: 0.7460801 (14)\ttotal: 14.2s\tremaining: 2m 54s\n",
      "15:\ttest: 0.7462424\tbest: 0.7462424 (15)\ttotal: 15s\tremaining: 2m 52s\n",
      "16:\ttest: 0.7466282\tbest: 0.7466282 (16)\ttotal: 15.9s\tremaining: 2m 51s\n",
      "17:\ttest: 0.7490646\tbest: 0.7490646 (17)\ttotal: 16.8s\tremaining: 2m 49s\n",
      "18:\ttest: 0.7498654\tbest: 0.7498654 (18)\ttotal: 17.7s\tremaining: 2m 48s\n",
      "19:\ttest: 0.7512435\tbest: 0.7512435 (19)\ttotal: 18.5s\tremaining: 2m 46s\n",
      "20:\ttest: 0.7501828\tbest: 0.7512435 (19)\ttotal: 19.4s\tremaining: 2m 45s\n",
      "21:\ttest: 0.7499736\tbest: 0.7512435 (19)\ttotal: 20.3s\tremaining: 2m 43s\n",
      "22:\ttest: 0.7503400\tbest: 0.7512435 (19)\ttotal: 21.1s\tremaining: 2m 42s\n",
      "23:\ttest: 0.7505107\tbest: 0.7512435 (19)\ttotal: 22s\tremaining: 2m 41s\n",
      "24:\ttest: 0.7514043\tbest: 0.7514043 (24)\ttotal: 22.9s\tremaining: 2m 40s\n",
      "25:\ttest: 0.7518673\tbest: 0.7518673 (25)\ttotal: 23.7s\tremaining: 2m 38s\n",
      "26:\ttest: 0.7515615\tbest: 0.7518673 (25)\ttotal: 24.5s\tremaining: 2m 37s\n",
      "27:\ttest: 0.7515662\tbest: 0.7518673 (25)\ttotal: 25.4s\tremaining: 2m 35s\n",
      "28:\ttest: 0.7516302\tbest: 0.7518673 (25)\ttotal: 26.2s\tremaining: 2m 34s\n",
      "29:\ttest: 0.7519895\tbest: 0.7519895 (29)\ttotal: 27.1s\tremaining: 2m 33s\n",
      "30:\ttest: 0.7519295\tbest: 0.7519895 (29)\ttotal: 27.9s\tremaining: 2m 32s\n",
      "31:\ttest: 0.7517136\tbest: 0.7519895 (29)\ttotal: 28.7s\tremaining: 2m 30s\n",
      "32:\ttest: 0.7518592\tbest: 0.7519895 (29)\ttotal: 29.6s\tremaining: 2m 29s\n",
      "33:\ttest: 0.7516288\tbest: 0.7519895 (29)\ttotal: 30.4s\tremaining: 2m 28s\n",
      "34:\ttest: 0.7504656\tbest: 0.7519895 (29)\ttotal: 31.3s\tremaining: 2m 27s\n",
      "35:\ttest: 0.7502064\tbest: 0.7519895 (29)\ttotal: 32.2s\tremaining: 2m 26s\n",
      "36:\ttest: 0.7498337\tbest: 0.7519895 (29)\ttotal: 33s\tremaining: 2m 25s\n",
      "37:\ttest: 0.7500792\tbest: 0.7519895 (29)\ttotal: 33.9s\tremaining: 2m 24s\n",
      "38:\ttest: 0.7494313\tbest: 0.7519895 (29)\ttotal: 34.7s\tremaining: 2m 23s\n",
      "39:\ttest: 0.7491100\tbest: 0.7519895 (29)\ttotal: 35.6s\tremaining: 2m 22s\n",
      "40:\ttest: 0.7490928\tbest: 0.7519895 (29)\ttotal: 36.5s\tremaining: 2m 21s\n",
      "41:\ttest: 0.7492801\tbest: 0.7519895 (29)\ttotal: 37.3s\tremaining: 2m 20s\n",
      "42:\ttest: 0.7495512\tbest: 0.7519895 (29)\ttotal: 38.2s\tremaining: 2m 19s\n",
      "43:\ttest: 0.7497629\tbest: 0.7519895 (29)\ttotal: 38.8s\tremaining: 2m 17s\n",
      "44:\ttest: 0.7483991\tbest: 0.7519895 (29)\ttotal: 39.7s\tremaining: 2m 16s\n",
      "45:\ttest: 0.7484085\tbest: 0.7519895 (29)\ttotal: 40.6s\tremaining: 2m 15s\n",
      "46:\ttest: 0.7479756\tbest: 0.7519895 (29)\ttotal: 41.5s\tremaining: 2m 15s\n",
      "47:\ttest: 0.7477241\tbest: 0.7519895 (29)\ttotal: 42.4s\tremaining: 2m 14s\n",
      "48:\ttest: 0.7472178\tbest: 0.7519895 (29)\ttotal: 43.2s\tremaining: 2m 13s\n",
      "49:\ttest: 0.7464065\tbest: 0.7519895 (29)\ttotal: 44.1s\tremaining: 2m 12s\n",
      "50:\ttest: 0.7463250\tbest: 0.7519895 (29)\ttotal: 45s\tremaining: 2m 11s\n",
      "51:\ttest: 0.7461866\tbest: 0.7519895 (29)\ttotal: 45.8s\tremaining: 2m 10s\n",
      "52:\ttest: 0.7461933\tbest: 0.7519895 (29)\ttotal: 46.7s\tremaining: 2m 9s\n",
      "53:\ttest: 0.7455720\tbest: 0.7519895 (29)\ttotal: 47.6s\tremaining: 2m 8s\n",
      "54:\ttest: 0.7460943\tbest: 0.7519895 (29)\ttotal: 48.5s\tremaining: 2m 7s\n",
      "55:\ttest: 0.7459467\tbest: 0.7519895 (29)\ttotal: 49.4s\tremaining: 2m 6s\n",
      "56:\ttest: 0.7460144\tbest: 0.7519895 (29)\ttotal: 50.3s\tremaining: 2m 6s\n",
      "57:\ttest: 0.7453493\tbest: 0.7519895 (29)\ttotal: 51.2s\tremaining: 2m 5s\n",
      "58:\ttest: 0.7456032\tbest: 0.7519895 (29)\ttotal: 52.1s\tremaining: 2m 4s\n",
      "59:\ttest: 0.7455179\tbest: 0.7519895 (29)\ttotal: 53.1s\tremaining: 2m 3s\n",
      "60:\ttest: 0.7451734\tbest: 0.7519895 (29)\ttotal: 54s\tremaining: 2m 2s\n",
      "61:\ttest: 0.7450643\tbest: 0.7519895 (29)\ttotal: 54.8s\tremaining: 2m 2s\n",
      "62:\ttest: 0.7449035\tbest: 0.7519895 (29)\ttotal: 55.8s\tremaining: 2m 1s\n",
      "63:\ttest: 0.7447250\tbest: 0.7519895 (29)\ttotal: 56.7s\tremaining: 2m\n",
      "64:\ttest: 0.7446761\tbest: 0.7519895 (29)\ttotal: 57.6s\tremaining: 1m 59s\n",
      "65:\ttest: 0.7450165\tbest: 0.7519895 (29)\ttotal: 58.5s\tremaining: 1m 58s\n",
      "66:\ttest: 0.7453770\tbest: 0.7519895 (29)\ttotal: 59.3s\tremaining: 1m 57s\n",
      "67:\ttest: 0.7456303\tbest: 0.7519895 (29)\ttotal: 1m\tremaining: 1m 57s\n",
      "68:\ttest: 0.7453657\tbest: 0.7519895 (29)\ttotal: 1m 1s\tremaining: 1m 56s\n",
      "69:\ttest: 0.7456650\tbest: 0.7519895 (29)\ttotal: 1m 2s\tremaining: 1m 55s\n",
      "70:\ttest: 0.7458735\tbest: 0.7519895 (29)\ttotal: 1m 2s\tremaining: 1m 54s\n",
      "71:\ttest: 0.7458964\tbest: 0.7519895 (29)\ttotal: 1m 3s\tremaining: 1m 53s\n",
      "72:\ttest: 0.7457154\tbest: 0.7519895 (29)\ttotal: 1m 4s\tremaining: 1m 52s\n",
      "73:\ttest: 0.7455809\tbest: 0.7519895 (29)\ttotal: 1m 5s\tremaining: 1m 51s\n",
      "74:\ttest: 0.7456288\tbest: 0.7519895 (29)\ttotal: 1m 6s\tremaining: 1m 50s\n",
      "75:\ttest: 0.7459215\tbest: 0.7519895 (29)\ttotal: 1m 6s\tremaining: 1m 49s\n",
      "76:\ttest: 0.7462434\tbest: 0.7519895 (29)\ttotal: 1m 7s\tremaining: 1m 48s\n",
      "77:\ttest: 0.7462123\tbest: 0.7519895 (29)\ttotal: 1m 8s\tremaining: 1m 47s\n",
      "78:\ttest: 0.7460826\tbest: 0.7519895 (29)\ttotal: 1m 9s\tremaining: 1m 46s\n",
      "79:\ttest: 0.7460757\tbest: 0.7519895 (29)\ttotal: 1m 10s\tremaining: 1m 45s\n",
      "80:\ttest: 0.7462110\tbest: 0.7519895 (29)\ttotal: 1m 10s\tremaining: 1m 44s\n",
      "81:\ttest: 0.7465076\tbest: 0.7519895 (29)\ttotal: 1m 11s\tremaining: 1m 43s\n",
      "82:\ttest: 0.7466552\tbest: 0.7519895 (29)\ttotal: 1m 12s\tremaining: 1m 42s\n",
      "83:\ttest: 0.7465578\tbest: 0.7519895 (29)\ttotal: 1m 13s\tremaining: 1m 41s\n",
      "84:\ttest: 0.7466880\tbest: 0.7519895 (29)\ttotal: 1m 14s\tremaining: 1m 40s\n",
      "85:\ttest: 0.7468956\tbest: 0.7519895 (29)\ttotal: 1m 14s\tremaining: 1m 39s\n",
      "86:\ttest: 0.7468963\tbest: 0.7519895 (29)\ttotal: 1m 15s\tremaining: 1m 38s\n",
      "87:\ttest: 0.7472177\tbest: 0.7519895 (29)\ttotal: 1m 16s\tremaining: 1m 37s\n",
      "88:\ttest: 0.7472808\tbest: 0.7519895 (29)\ttotal: 1m 17s\tremaining: 1m 36s\n",
      "89:\ttest: 0.7474049\tbest: 0.7519895 (29)\ttotal: 1m 18s\tremaining: 1m 35s\n",
      "90:\ttest: 0.7475843\tbest: 0.7519895 (29)\ttotal: 1m 18s\tremaining: 1m 34s\n",
      "91:\ttest: 0.7476449\tbest: 0.7519895 (29)\ttotal: 1m 19s\tremaining: 1m 33s\n",
      "92:\ttest: 0.7478963\tbest: 0.7519895 (29)\ttotal: 1m 20s\tremaining: 1m 32s\n",
      "93:\ttest: 0.7481654\tbest: 0.7519895 (29)\ttotal: 1m 21s\tremaining: 1m 31s\n",
      "94:\ttest: 0.7479119\tbest: 0.7519895 (29)\ttotal: 1m 22s\tremaining: 1m 30s\n",
      "95:\ttest: 0.7479773\tbest: 0.7519895 (29)\ttotal: 1m 22s\tremaining: 1m 29s\n",
      "96:\ttest: 0.7481184\tbest: 0.7519895 (29)\ttotal: 1m 23s\tremaining: 1m 28s\n",
      "97:\ttest: 0.7483961\tbest: 0.7519895 (29)\ttotal: 1m 24s\tremaining: 1m 27s\n",
      "98:\ttest: 0.7484892\tbest: 0.7519895 (29)\ttotal: 1m 25s\tremaining: 1m 26s\n",
      "99:\ttest: 0.7483344\tbest: 0.7519895 (29)\ttotal: 1m 26s\tremaining: 1m 26s\n",
      "100:\ttest: 0.7484480\tbest: 0.7519895 (29)\ttotal: 1m 26s\tremaining: 1m 25s\n",
      "101:\ttest: 0.7485212\tbest: 0.7519895 (29)\ttotal: 1m 27s\tremaining: 1m 24s\n",
      "102:\ttest: 0.7483247\tbest: 0.7519895 (29)\ttotal: 1m 28s\tremaining: 1m 23s\n",
      "103:\ttest: 0.7484395\tbest: 0.7519895 (29)\ttotal: 1m 29s\tremaining: 1m 22s\n",
      "104:\ttest: 0.7480069\tbest: 0.7519895 (29)\ttotal: 1m 29s\tremaining: 1m 21s\n",
      "105:\ttest: 0.7479759\tbest: 0.7519895 (29)\ttotal: 1m 30s\tremaining: 1m 20s\n",
      "106:\ttest: 0.7478802\tbest: 0.7519895 (29)\ttotal: 1m 31s\tremaining: 1m 19s\n",
      "107:\ttest: 0.7477670\tbest: 0.7519895 (29)\ttotal: 1m 32s\tremaining: 1m 18s\n",
      "108:\ttest: 0.7478492\tbest: 0.7519895 (29)\ttotal: 1m 33s\tremaining: 1m 17s\n",
      "109:\ttest: 0.7476584\tbest: 0.7519895 (29)\ttotal: 1m 33s\tremaining: 1m 16s\n",
      "110:\ttest: 0.7476027\tbest: 0.7519895 (29)\ttotal: 1m 34s\tremaining: 1m 15s\n",
      "111:\ttest: 0.7477691\tbest: 0.7519895 (29)\ttotal: 1m 35s\tremaining: 1m 14s\n",
      "112:\ttest: 0.7478543\tbest: 0.7519895 (29)\ttotal: 1m 36s\tremaining: 1m 14s\n",
      "113:\ttest: 0.7477815\tbest: 0.7519895 (29)\ttotal: 1m 36s\tremaining: 1m 13s\n",
      "114:\ttest: 0.7475561\tbest: 0.7519895 (29)\ttotal: 1m 37s\tremaining: 1m 12s\n",
      "115:\ttest: 0.7477763\tbest: 0.7519895 (29)\ttotal: 1m 38s\tremaining: 1m 11s\n",
      "116:\ttest: 0.7480653\tbest: 0.7519895 (29)\ttotal: 1m 39s\tremaining: 1m 10s\n",
      "117:\ttest: 0.7478370\tbest: 0.7519895 (29)\ttotal: 1m 39s\tremaining: 1m 9s\n",
      "118:\ttest: 0.7475057\tbest: 0.7519895 (29)\ttotal: 1m 40s\tremaining: 1m 8s\n",
      "119:\ttest: 0.7475931\tbest: 0.7519895 (29)\ttotal: 1m 41s\tremaining: 1m 7s\n",
      "120:\ttest: 0.7475201\tbest: 0.7519895 (29)\ttotal: 1m 42s\tremaining: 1m 6s\n",
      "121:\ttest: 0.7473159\tbest: 0.7519895 (29)\ttotal: 1m 42s\tremaining: 1m 5s\n",
      "122:\ttest: 0.7470626\tbest: 0.7519895 (29)\ttotal: 1m 43s\tremaining: 1m 4s\n",
      "123:\ttest: 0.7471345\tbest: 0.7519895 (29)\ttotal: 1m 44s\tremaining: 1m 4s\n",
      "124:\ttest: 0.7469396\tbest: 0.7519895 (29)\ttotal: 1m 45s\tremaining: 1m 3s\n",
      "125:\ttest: 0.7470877\tbest: 0.7519895 (29)\ttotal: 1m 45s\tremaining: 1m 2s\n",
      "126:\ttest: 0.7470550\tbest: 0.7519895 (29)\ttotal: 1m 46s\tremaining: 1m 1s\n",
      "127:\ttest: 0.7468880\tbest: 0.7519895 (29)\ttotal: 1m 47s\tremaining: 1m\n",
      "128:\ttest: 0.7472138\tbest: 0.7519895 (29)\ttotal: 1m 48s\tremaining: 59.6s\n",
      "129:\ttest: 0.7472076\tbest: 0.7519895 (29)\ttotal: 1m 48s\tremaining: 58.7s\n",
      "130:\ttest: 0.7468066\tbest: 0.7519895 (29)\ttotal: 1m 49s\tremaining: 57.8s\n",
      "131:\ttest: 0.7469302\tbest: 0.7519895 (29)\ttotal: 1m 50s\tremaining: 56.9s\n",
      "132:\ttest: 0.7467773\tbest: 0.7519895 (29)\ttotal: 1m 51s\tremaining: 56s\n",
      "133:\ttest: 0.7469674\tbest: 0.7519895 (29)\ttotal: 1m 52s\tremaining: 55.2s\n",
      "134:\ttest: 0.7467431\tbest: 0.7519895 (29)\ttotal: 1m 52s\tremaining: 54.3s\n",
      "135:\ttest: 0.7470091\tbest: 0.7519895 (29)\ttotal: 1m 53s\tremaining: 53.4s\n",
      "136:\ttest: 0.7470570\tbest: 0.7519895 (29)\ttotal: 1m 54s\tremaining: 52.6s\n",
      "137:\ttest: 0.7471588\tbest: 0.7519895 (29)\ttotal: 1m 55s\tremaining: 51.7s\n",
      "138:\ttest: 0.7473312\tbest: 0.7519895 (29)\ttotal: 1m 55s\tremaining: 50.8s\n",
      "139:\ttest: 0.7473496\tbest: 0.7519895 (29)\ttotal: 1m 56s\tremaining: 50s\n",
      "140:\ttest: 0.7473761\tbest: 0.7519895 (29)\ttotal: 1m 57s\tremaining: 49.1s\n",
      "141:\ttest: 0.7474742\tbest: 0.7519895 (29)\ttotal: 1m 58s\tremaining: 48.2s\n",
      "142:\ttest: 0.7472934\tbest: 0.7519895 (29)\ttotal: 1m 58s\tremaining: 47.4s\n",
      "143:\ttest: 0.7469502\tbest: 0.7519895 (29)\ttotal: 1m 59s\tremaining: 46.5s\n",
      "144:\ttest: 0.7469336\tbest: 0.7519895 (29)\ttotal: 2m\tremaining: 45.7s\n",
      "145:\ttest: 0.7466157\tbest: 0.7519895 (29)\ttotal: 2m 1s\tremaining: 44.8s\n",
      "146:\ttest: 0.7467809\tbest: 0.7519895 (29)\ttotal: 2m 1s\tremaining: 43.9s\n",
      "147:\ttest: 0.7467594\tbest: 0.7519895 (29)\ttotal: 2m 2s\tremaining: 43.1s\n",
      "148:\ttest: 0.7467898\tbest: 0.7519895 (29)\ttotal: 2m 3s\tremaining: 42.3s\n",
      "149:\ttest: 0.7468832\tbest: 0.7519895 (29)\ttotal: 2m 4s\tremaining: 41.4s\n",
      "150:\ttest: 0.7468586\tbest: 0.7519895 (29)\ttotal: 2m 5s\tremaining: 40.6s\n",
      "151:\ttest: 0.7469163\tbest: 0.7519895 (29)\ttotal: 2m 5s\tremaining: 39.7s\n",
      "152:\ttest: 0.7471271\tbest: 0.7519895 (29)\ttotal: 2m 6s\tremaining: 38.9s\n",
      "153:\ttest: 0.7470992\tbest: 0.7519895 (29)\ttotal: 2m 7s\tremaining: 38.1s\n",
      "154:\ttest: 0.7470748\tbest: 0.7519895 (29)\ttotal: 2m 8s\tremaining: 37.2s\n",
      "155:\ttest: 0.7474853\tbest: 0.7519895 (29)\ttotal: 2m 8s\tremaining: 36.4s\n",
      "156:\ttest: 0.7474943\tbest: 0.7519895 (29)\ttotal: 2m 9s\tremaining: 35.5s\n",
      "157:\ttest: 0.7470322\tbest: 0.7519895 (29)\ttotal: 2m 10s\tremaining: 34.7s\n",
      "158:\ttest: 0.7467689\tbest: 0.7519895 (29)\ttotal: 2m 11s\tremaining: 33.9s\n",
      "159:\ttest: 0.7464300\tbest: 0.7519895 (29)\ttotal: 2m 12s\tremaining: 33s\n",
      "160:\ttest: 0.7465307\tbest: 0.7519895 (29)\ttotal: 2m 12s\tremaining: 32.2s\n",
      "161:\ttest: 0.7464250\tbest: 0.7519895 (29)\ttotal: 2m 13s\tremaining: 31.4s\n",
      "162:\ttest: 0.7464617\tbest: 0.7519895 (29)\ttotal: 2m 14s\tremaining: 30.5s\n",
      "163:\ttest: 0.7463993\tbest: 0.7519895 (29)\ttotal: 2m 15s\tremaining: 29.7s\n",
      "164:\ttest: 0.7465208\tbest: 0.7519895 (29)\ttotal: 2m 16s\tremaining: 28.9s\n",
      "165:\ttest: 0.7465091\tbest: 0.7519895 (29)\ttotal: 2m 16s\tremaining: 28s\n",
      "166:\ttest: 0.7467194\tbest: 0.7519895 (29)\ttotal: 2m 17s\tremaining: 27.2s\n",
      "167:\ttest: 0.7466539\tbest: 0.7519895 (29)\ttotal: 2m 18s\tremaining: 26.3s\n",
      "168:\ttest: 0.7465294\tbest: 0.7519895 (29)\ttotal: 2m 19s\tremaining: 25.5s\n",
      "169:\ttest: 0.7465947\tbest: 0.7519895 (29)\ttotal: 2m 19s\tremaining: 24.7s\n",
      "170:\ttest: 0.7466400\tbest: 0.7519895 (29)\ttotal: 2m 20s\tremaining: 23.8s\n",
      "171:\ttest: 0.7465897\tbest: 0.7519895 (29)\ttotal: 2m 21s\tremaining: 23s\n",
      "172:\ttest: 0.7466595\tbest: 0.7519895 (29)\ttotal: 2m 22s\tremaining: 22.2s\n",
      "173:\ttest: 0.7467212\tbest: 0.7519895 (29)\ttotal: 2m 23s\tremaining: 21.4s\n",
      "174:\ttest: 0.7468054\tbest: 0.7519895 (29)\ttotal: 2m 23s\tremaining: 20.5s\n",
      "175:\ttest: 0.7467091\tbest: 0.7519895 (29)\ttotal: 2m 24s\tremaining: 19.7s\n",
      "176:\ttest: 0.7467217\tbest: 0.7519895 (29)\ttotal: 2m 25s\tremaining: 18.9s\n",
      "177:\ttest: 0.7468612\tbest: 0.7519895 (29)\ttotal: 2m 26s\tremaining: 18.1s\n",
      "178:\ttest: 0.7469564\tbest: 0.7519895 (29)\ttotal: 2m 26s\tremaining: 17.2s\n",
      "179:\ttest: 0.7470069\tbest: 0.7519895 (29)\ttotal: 2m 27s\tremaining: 16.4s\n",
      "180:\ttest: 0.7468593\tbest: 0.7519895 (29)\ttotal: 2m 28s\tremaining: 15.6s\n",
      "181:\ttest: 0.7470527\tbest: 0.7519895 (29)\ttotal: 2m 29s\tremaining: 14.8s\n",
      "182:\ttest: 0.7469979\tbest: 0.7519895 (29)\ttotal: 2m 29s\tremaining: 13.9s\n",
      "183:\ttest: 0.7471939\tbest: 0.7519895 (29)\ttotal: 2m 30s\tremaining: 13.1s\n",
      "184:\ttest: 0.7470541\tbest: 0.7519895 (29)\ttotal: 2m 31s\tremaining: 12.3s\n",
      "185:\ttest: 0.7471356\tbest: 0.7519895 (29)\ttotal: 2m 32s\tremaining: 11.5s\n",
      "186:\ttest: 0.7472402\tbest: 0.7519895 (29)\ttotal: 2m 33s\tremaining: 10.6s\n",
      "187:\ttest: 0.7472904\tbest: 0.7519895 (29)\ttotal: 2m 33s\tremaining: 9.81s\n",
      "188:\ttest: 0.7468542\tbest: 0.7519895 (29)\ttotal: 2m 34s\tremaining: 8.99s\n",
      "189:\ttest: 0.7468777\tbest: 0.7519895 (29)\ttotal: 2m 35s\tremaining: 8.17s\n",
      "190:\ttest: 0.7467317\tbest: 0.7519895 (29)\ttotal: 2m 36s\tremaining: 7.35s\n",
      "191:\ttest: 0.7465928\tbest: 0.7519895 (29)\ttotal: 2m 36s\tremaining: 6.53s\n",
      "192:\ttest: 0.7466478\tbest: 0.7519895 (29)\ttotal: 2m 37s\tremaining: 5.72s\n",
      "193:\ttest: 0.7466929\tbest: 0.7519895 (29)\ttotal: 2m 38s\tremaining: 4.9s\n",
      "194:\ttest: 0.7466364\tbest: 0.7519895 (29)\ttotal: 2m 39s\tremaining: 4.08s\n",
      "195:\ttest: 0.7462909\tbest: 0.7519895 (29)\ttotal: 2m 39s\tremaining: 3.26s\n",
      "196:\ttest: 0.7463541\tbest: 0.7519895 (29)\ttotal: 2m 40s\tremaining: 2.44s\n",
      "197:\ttest: 0.7463309\tbest: 0.7519895 (29)\ttotal: 2m 41s\tremaining: 1.63s\n",
      "198:\ttest: 0.7461477\tbest: 0.7519895 (29)\ttotal: 2m 42s\tremaining: 815ms\n",
      "199:\ttest: 0.7459812\tbest: 0.7519895 (29)\ttotal: 2m 42s\tremaining: 0us\n",
      "\n",
      "bestTest = 0.7519895278\n",
      "bestIteration = 29\n",
      "\n",
      "Shrink model to first 30 iterations.\n"
     ]
    },
    {
     "data": {
      "text/plain": [
       "<catboost.core.CatBoostClassifier at 0x1c5b2dbb2e0>"
      ]
     },
     "execution_count": 25,
     "metadata": {},
     "output_type": "execute_result"
    }
   ],
   "source": [
    "model_cb.fit(X_train_over, y_train_over,  plot=True, eval_set=(X_val, y_val))"
   ]
  },
  {
   "cell_type": "code",
   "execution_count": 28,
   "id": "fd26d35d",
   "metadata": {},
   "outputs": [],
   "source": [
    "# Creating metric function \n",
    "def metrics_score(model, features, labels):\n",
    "    predicted = model.predict(features)\n",
    "    print(classification_report(labels, predicted))\n",
    "\n",
    "    plot_confusion_matrix(model, features, labels)\n",
    "    plt.grid(b=None)\n",
    "\n",
    "    plt.show()"
   ]
  },
  {
   "cell_type": "code",
   "execution_count": 33,
   "id": "b1ab4cd2",
   "metadata": {},
   "outputs": [
    {
     "name": "stdout",
     "output_type": "stream",
     "text": [
      "              precision    recall  f1-score   support\n",
      "\n",
      "           0       0.85      0.76      0.80     29765\n",
      "           1       0.78      0.87      0.82     29765\n",
      "\n",
      "    accuracy                           0.81     59530\n",
      "   macro avg       0.82      0.81      0.81     59530\n",
      "weighted avg       0.82      0.81      0.81     59530\n",
      "\n"
     ]
    },
    {
     "name": "stderr",
     "output_type": "stream",
     "text": [
      "C:\\Users\\user\\anaconda3\\lib\\site-packages\\sklearn\\utils\\deprecation.py:87: FutureWarning: Function plot_confusion_matrix is deprecated; Function `plot_confusion_matrix` is deprecated in 1.0 and will be removed in 1.2. Use one of the class methods: ConfusionMatrixDisplay.from_predictions or ConfusionMatrixDisplay.from_estimator.\n",
      "  warnings.warn(msg, category=FutureWarning)\n",
      "C:\\Users\\user\\AppData\\Local\\Temp\\ipykernel_11408\\1879565523.py:7: MatplotlibDeprecationWarning: The 'b' parameter of grid() has been renamed 'visible' since Matplotlib 3.5; support for the old name will be dropped two minor releases later.\n",
      "  plt.grid(b=None)\n"
     ]
    },
    {
     "data": {
      "image/png": "[encoded data removed]",
      "text/plain": [
       "<Figure size 432x288 with 2 Axes>"
      ]
     },
     "metadata": {
      "needs_background": "light"
     },
     "output_type": "display_data"
    }
   ],
   "source": [
    "metrics_score(model_cb, X_train_over, y_train_over)"
   ]
  },
  {
   "cell_type": "code",
   "execution_count": 35,
   "id": "a89d60e3",
   "metadata": {},
   "outputs": [
    {
     "name": "stdout",
     "output_type": "stream",
     "text": [
      "              precision    recall  f1-score   support\n",
      "\n",
      "           0       0.92      0.72      0.81     12757\n",
      "           1       0.29      0.63      0.40      2243\n",
      "\n",
      "    accuracy                           0.71     15000\n",
      "   macro avg       0.60      0.68      0.60     15000\n",
      "weighted avg       0.82      0.71      0.75     15000\n",
      "\n"
     ]
    },
    {
     "name": "stderr",
     "output_type": "stream",
     "text": [
      "C:\\Users\\user\\anaconda3\\lib\\site-packages\\sklearn\\utils\\deprecation.py:87: FutureWarning: Function plot_confusion_matrix is deprecated; Function `plot_confusion_matrix` is deprecated in 1.0 and will be removed in 1.2. Use one of the class methods: ConfusionMatrixDisplay.from_predictions or ConfusionMatrixDisplay.from_estimator.\n",
      "  warnings.warn(msg, category=FutureWarning)\n",
      "C:\\Users\\user\\AppData\\Local\\Temp\\ipykernel_11408\\1879565523.py:7: MatplotlibDeprecationWarning: The 'b' parameter of grid() has been renamed 'visible' since Matplotlib 3.5; support for the old name will be dropped two minor releases later.\n",
      "  plt.grid(b=None)\n"
     ]
    },
    {
     "data": {
      "image/png": "[encoded data removed]",
      "text/plain": [
       "<Figure size 432x288 with 2 Axes>"
      ]
     },
     "metadata": {
      "needs_background": "light"
     },
     "output_type": "display_data"
    }
   ],
   "source": [
    "metrics_score(model_cb, X_val, y_val)"
   ]
  },
  {
   "cell_type": "code",
   "execution_count": 36,
   "id": "a8460911",
   "metadata": {},
   "outputs": [
    {
     "name": "stdout",
     "output_type": "stream",
     "text": [
      "0.7519895277656693\n"
     ]
    }
   ],
   "source": [
    "pred_prob = model_cb.predict_proba(X_val)\n",
    "\n",
    "auc_score = roc_auc_score(y_val, pred_prob[:,1])\n",
    "print(auc_score)"
   ]
  },
  {
   "cell_type": "code",
   "execution_count": 37,
   "id": "16eca075",
   "metadata": {},
   "outputs": [
    {
     "data": {
      "image/png": "[encoded data removed]",
      "text/plain": [
       "<Figure size 720x504 with 1 Axes>"
      ]
     },
     "metadata": {
      "needs_background": "light"
     },
     "output_type": "display_data"
    }
   ],
   "source": [
    "# Predict_proba gives the probability of each observation belonging to each class\n",
    "y_scores_modelCB =model_cb.predict_proba(X_train_over)\n",
    "\n",
    "precisions_cb, recalls_cb, thresholds_cb = precision_recall_curve(y_train_over, y_scores_modelCB[:,1])\n",
    "\n",
    "# Plot values of precisions, recalls, and thresholds\n",
    "plt.figure(figsize=(10,7))\n",
    "plt.plot(thresholds_cb, precisions_cb[:-1], 'b--', label='precision')\n",
    "plt.plot(thresholds_cb, recalls_cb[:-1], 'g--', label = 'recall')\n",
    "plt.xlabel('Threshold')\n",
    "plt.legend(loc='upper left')\n",
    "plt.ylim([0,1])\n",
    "plt.show()\n"
   ]
  },
  {
   "cell_type": "markdown",
   "id": "9b96335a",
   "metadata": {},
   "source": [
    "We can see that the precison and recall are balanced for a threshold of 0.5\n",
    "\n",
    "AUC = 0.75"
   ]
  },
  {
   "cell_type": "markdown",
   "id": "d09aa0a6",
   "metadata": {},
   "source": [
    "## COMMUNICATE RESULT"
   ]
  },
  {
   "cell_type": "code",
   "execution_count": 40,
   "id": "7e16df50",
   "metadata": {},
   "outputs": [
    {
     "data": {
      "text/plain": [
       "<AxesSubplot:>"
      ]
     },
     "execution_count": 40,
     "metadata": {},
     "output_type": "execute_result"
    },
    {
     "data": {
      "text/plain": [
       "<Figure size 936x936 with 0 Axes>"
      ]
     },
     "metadata": {},
     "output_type": "display_data"
    },
    {
     "data": {
      "image/png": "[encoded data removed]",
      "text/plain": [
       "<Figure size 432x288 with 1 Axes>"
      ]
     },
     "metadata": {
      "needs_background": "light"
     },
     "output_type": "display_data"
    },
    {
     "data": {
      "image/png": "[encoded data removed]",
      "text/plain": [
       "<Figure size 432x288 with 1 Axes>"
      ]
     },
     "metadata": {
      "needs_background": "light"
     },
     "output_type": "display_data"
    }
   ],
   "source": [
    "# Getting feature importance\n",
    "importances = model_cb.feature_importances_\n",
    "\n",
    "features = X_train_over.columns\n",
    "\n",
    "importance_df = pd.DataFrame(importances, index = features, columns = ['Importance']).sort_values(by = 'Importance', ascending = False)\n",
    "\n",
    "plt.figure(figsize = (13, 13))\n",
    "\n",
    "#sns.barplot(importance_df.head(10).Importance,importance_df.index)\n",
    "importance_df.head(20).plot(kind=\"barh\")\n",
    "importance_df.tail(10).plot(kind=\"barh\")    "
   ]
  },
  {
   "cell_type": "code",
   "execution_count": null,
   "id": "59ea1180",
   "metadata": {},
   "outputs": [],
   "source": []
  },
  {
   "cell_type": "code",
   "execution_count": null,
   "id": "c3f52042",
   "metadata": {},
   "outputs": [],
   "source": []
  },
  {
   "cell_type": "code",
   "execution_count": null,
   "id": "c792d0f5",
   "metadata": {},
   "outputs": [],
   "source": []
  }
 ],
 "metadata": {
  "kernelspec": {
   "display_name": "Python 3 (ipykernel)",
   "language": "python",
   "name": "python3"
  },
  "language_info": {
   "codemirror_mode": {
    "name": "ipython",
    "version": 3
   },
   "file_extension": ".py",
   "mimetype": "text/x-python",
   "name": "python",
   "nbconvert_exporter": "python",
   "pygments_lexer": "ipython3",
   "version": "3.9.12"
  }
 },
 "nbformat": 4,
 "nbformat_minor": 5
}
